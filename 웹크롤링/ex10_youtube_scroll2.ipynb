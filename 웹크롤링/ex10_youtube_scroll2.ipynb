{
 "cells": [
  {
   "cell_type": "markdown",
   "metadata": {},
   "source": [
    "### 유튜브 스크롤"
   ]
  },
  {
   "cell_type": "code",
   "execution_count": 1,
   "metadata": {},
   "outputs": [],
   "source": [
    "import time\n",
    "from selenium import webdriver\n",
    "from selenium.webdriver.common.by import By\n",
    "from selenium.webdriver.common.keys import Keys\n",
    "from bs4 import BeautifulSoup as bs\n",
    "\n",
    "\n",
    "# 명시적 대기 : 어떤 요소가 나타날 때까지 대기\n",
    "from selenium.webdriver.support.wait import WebDriverWait\n",
    "from selenium.webdriver.support import expected_conditions as ES\n",
    "\n",
    "# 0. setting\n",
    "driver = webdriver.Chrome()\n",
    "url = \"https://www.youtube.com/\"\n",
    "driver.get(url)\n",
    "driver.implicitly_wait(10)  # 암시적 대기 : dom이 로드 될 때까지 기다리는 것\n",
    "search = driver.find_element(By.CSS_SELECTOR, \"input#search\")\n",
    "search.send_keys(\"곽튜브\")\n",
    "search.send_keys(Keys.ENTER)\n",
    "\n",
    "\n",
    "# 1. 검색 후\n",
    "driver.implicitly_wait(10)\n",
    "mainLink = driver.find_element(By.ID, \"main-link\")\n",
    "mainLink.click()\n",
    "\n",
    "\n",
    "# 2. 동영상 탭 선택\n",
    "driver.implicitly_wait(10)\n",
    "# tab = driver.find_element(By.CSS_SELECTOR, \"[tab-title='동영상']\")\n",
    "tab = driver.find_element(By.CSS_SELECTOR, \".yt-tab-shape-wiz--host-clickable:nth-child(2)\")\n",
    "tab.click()"
   ]
  },
  {
   "cell_type": "code",
   "execution_count": 49,
   "metadata": {},
   "outputs": [],
   "source": [
    "# 3. 동영상 스크롤 로딩\n",
    "# 0) 로딩 기다리기\n",
    "loadingBlock = \"#contents>.style-scope.ytd-rich-grid-renderer:nth-child(1)\"\n",
    "WebDriverWait(driver, 10).until(ES.invisibility_of_element((By.CSS_SELECTOR, loadingBlock)))  # 명시적\n",
    "\n",
    "# 1-1)\n",
    "# body = driver.find_element(By.TAG_NAME, \"body\")  \n",
    "# body.send_keys(Keys.END)  \n",
    "\n",
    "# 1-2)\n",
    "# driver.execute_script(\"window.scrollTo(0, document.documentElement.scrollHeight)\")\n",
    "\n",
    "\n",
    "# 2) 맨 끝인 것을 검사하는 방법\n",
    "# 2-1) 창의 전체 길이가 변화가 없는지 검사(timesleep)\n",
    "# 2-1-1) Keys.END 이용\n",
    "body = driver.find_element(By.TAG_NAME, \"body\")\n",
    "while True:\n",
    "    prevHeight = driver.execute_script(\"return document.documentElement.scrollHeight\")  # 이전 높이\n",
    "    body.send_keys(Keys.END)\n",
    "    time.sleep(2)\n",
    "    nowHeight = driver.execute_script(\"return document.documentElement.scrollHeight\")  # 현재 높이\n",
    "\n",
    "    # 종료조건\n",
    "    if prevHeight == nowHeight:\n",
    "        break\n",
    "\n",
    "# 2-1-2) execute_script 이용\n",
    "while True:\n",
    "    prevHeight = driver.execute_script(\"return document.documentElement.scrollHeight\")\n",
    "    driver.execute_script(\"window.scrollTo(0, document.documentElement.scrollHeight)\") # 최초 한번은 스크롤이 안되는 이슈 발생\n",
    "    time.sleep(2)\n",
    "    nowHeight = driver.execute_script(\"return document.documentElement.scrollHeight\")\n",
    "\n",
    "    # 종료조건\n",
    "    if prevHeight == nowHeight:\n",
    "        break\n"
   ]
  },
  {
   "cell_type": "code",
   "execution_count": 50,
   "metadata": {},
   "outputs": [
    {
     "name": "stdout",
     "output_type": "stream",
     "text": [
      "로딩중\n",
      "로딩중\n",
      "로딩중\n",
      "로딩중\n",
      "로딩중\n",
      "로딩중\n",
      "로딩중\n",
      "로딩중\n",
      "로딩중\n",
      "로딩중\n",
      "로딩중\n",
      "마지막 로딩입니다.\n"
     ]
    }
   ],
   "source": [
    "# 2-2) 로딩 된 컨텐츠의 길이가 변화가 없는지 검사(명시적 대기) -> 연산 시간이 줄어든다\n",
    "loadingBlock = \"#contents>.style-scope.ytd-rich-grid-renderer:nth-child(1)\"\n",
    "WebDriverWait(driver, 10).until(ES.presence_of_element_located((By.CSS_SELECTOR, loadingBlock)))\n",
    "\n",
    "body = driver.find_element(By.TAG_NAME, \"body\")\n",
    "while True:\n",
    "    blockList = driver.find_elements(By.CSS_SELECTOR, \"#contents>.style-scope.ytd-rich-grid-renderer\")\n",
    "    prevLen = len(blockList)\n",
    "    body.send_keys(Keys.END)\n",
    "    loadingBlock = f\"#contents>.style-scope.ytd-rich-grid-renderer:nth-child({prevLen+1})\"\n",
    "    \n",
    "    try:\n",
    "        WebDriverWait(driver, 10).until(ES.presence_of_element_located((By.CSS_SELECTOR, loadingBlock)))\n",
    "        print(\"로딩중\")\n",
    "    except:\n",
    "        print(\"마지막 로딩입니다.\")\n",
    "        break\n",
    "    \n",
    "    # 다음 요소가 없으면 종료되기 때문에 필요X\n",
    "    # blockList = driver.find_elements(By.CSS_SELECTOR, \"#contents>.style-scope.ytd-rich-grid-renderer\")\n",
    "    # nowLen = len(blockList)\n",
    "\n",
    "    # if prevLen == nowLen:\n",
    "    #     break\n"
   ]
  }
 ],
 "metadata": {
  "kernelspec": {
   "display_name": "base",
   "language": "python",
   "name": "python3"
  },
  "language_info": {
   "codemirror_mode": {
    "name": "ipython",
    "version": 3
   },
   "file_extension": ".py",
   "mimetype": "text/x-python",
   "name": "python",
   "nbconvert_exporter": "python",
   "pygments_lexer": "ipython3",
   "version": "3.11.7"
  }
 },
 "nbformat": 4,
 "nbformat_minor": 2
}
