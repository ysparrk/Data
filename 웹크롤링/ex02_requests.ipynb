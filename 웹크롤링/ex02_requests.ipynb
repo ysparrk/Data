{
 "cells": [
  {
   "cell_type": "markdown",
   "metadata": {},
   "source": [
    "### 요청과 응답\n",
    "- request : 브라우저에서 url로 리소스를 요청하는 것 / html 문서를 요청하는 행위\n",
    "- response : 요청한 리소스를 응답하는 것 / 요청한 문서를 받는 것\n",
    "    - status code : 200 성공, 500 서버 내 오류, 400 존재하지 않음, 300 리다이렉션(서버 내의 다른 리소스로 이동)\n",
    "- 브라우저는 기본적으로 비연결성 통신을 한다.(예외적으로 웹소켓을 지원하기도 한다.)\n",
    "    - 연결성 통신 : 소켓통신, 전화, 채킹\n",
    "    - 비연결성 통신 : http, 이메일, 문자"
   ]
  },
  {
   "cell_type": "markdown",
   "metadata": {},
   "source": [
    "### pip install requests\n",
    "- python으로 http리소스를 요청하는 라이브러리\n",
    "- 웹크롤링 : 자동으로 웹상의 데이터를 수집 또는 접속하는 행위(데이터 == 돈: 크롤링 데이터 도둑)\n",
    "    - 도덕적인 부분에서는 생각해야 한다.\n",
    "    - 파이썬으로 하는 크롤링은 거의 다 막혔다.\n",
    "- 데이터 스크래핑 : 전문적으로 웹상 데이터를 수집 저장\n",
    "- 공공 API OR API : 국가 OR 회사 OR 개인이 수집한 데이터나 어플리케이션을 사용하는 권한을 제공\n",
    "- 예) 항공기 검색 어플\n",
    "    1. 웹크롤링해서 스카이스캐너 같은 회사에서 항공기 내역을 수집\n",
    "    2. 공공 API에서 예약가능한 항공기 내역 수집"
   ]
  },
  {
   "cell_type": "code",
   "execution_count": null,
   "metadata": {},
   "outputs": [],
   "source": [
    "import requests as req\n",
    "\n",
    "url=\"https://www.danawa.com\"\n",
    "header={'User-Agent': 'Mozilla/5.0'}  # 파이썬이 아니라 브라우저로 접속 / header : 문서의 메타 정보를 포함하는 곳\n",
    "# url=\"https://www.naver.com\"\n",
    "res = req.get(url=url, headers=header)  # url로 리소스를 요청하는 행위 get\n",
    "print(res.text)"
   ]
  }
 ],
 "metadata": {
  "kernelspec": {
   "display_name": "base",
   "language": "python",
   "name": "python3"
  },
  "language_info": {
   "codemirror_mode": {
    "name": "ipython",
    "version": 3
   },
   "file_extension": ".py",
   "mimetype": "text/x-python",
   "name": "python",
   "nbconvert_exporter": "python",
   "pygments_lexer": "ipython3",
   "version": "3.11.7"
  }
 },
 "nbformat": 4,
 "nbformat_minor": 2
}
