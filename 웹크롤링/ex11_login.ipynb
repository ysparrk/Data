{
 "cells": [
  {
   "cell_type": "markdown",
   "metadata": {},
   "source": [
    "### 로그인\n",
    "- 원시적 : 크롤링하는 브라우저는 자동 로그인이 불가능하다 -> 매번 로그인을 해줘야 한다\n",
    "- **주의\n",
    "    - 크롤링 로그인을 막는 사이트가 유난히 많다."
   ]
  },
  {
   "cell_type": "code",
   "execution_count": 13,
   "metadata": {},
   "outputs": [],
   "source": [
    "import time\n",
    "from selenium import webdriver\n",
    "from selenium.webdriver.common.by import By\n",
    "from selenium.webdriver.common.keys import Keys\n",
    "\n",
    "# 막히거나 안되는 것\n",
    "url = \"https://nid.naver.com/\"\n",
    "driver = webdriver.Chrome()\n",
    "driver.get(url)\n",
    "userId = \"8ozmagazine\"\n",
    "userPw = \"chlrudals86\"\n",
    "idInput = driver.find_element(By.ID, \"id\")\n",
    "pwInput = driver.find_element(By.ID, \"pw\")\n",
    "loginBtn = driver.find_element(By.ID, \"log.login\")\n",
    "\n",
    "\n",
    "# 1) send_keys가 입력하는 속도가 너무 빠르다(늦추거나/클립보드에 복사해서 붙여넣기) \n",
    "# 2) 모든 것을 입력하고 로그인 버튼을 누르는 것까지가 너무 빠르다.(time sleep)\n",
    "\n",
    "# idInput.send_keys(userId)\n",
    "# pwInput.send_keys(userPw)\n",
    "# loginBtn.click()\n",
    "\n"
   ]
  },
  {
   "cell_type": "code",
   "execution_count": 14,
   "metadata": {},
   "outputs": [],
   "source": [
    "import pyperclip  # 클립보드를 사용하는 라이브러리\n",
    "import time\n",
    "\n",
    "time.sleep(1)\n",
    "pyperclip.copy(userId)\n",
    "idInput.send_keys(Keys.CONTROL + \"v\")\n",
    "\n",
    "time.sleep(1)\n",
    "pyperclip.copy(userPw)\n",
    "pwInput.send_keys(Keys.CONTROL + \"v\")\n",
    "\n",
    "time.sleep(1)\n",
    "loginBtn.click()\n",
    "\n"
   ]
  }
 ],
 "metadata": {
  "kernelspec": {
   "display_name": "base",
   "language": "python",
   "name": "python3"
  },
  "language_info": {
   "codemirror_mode": {
    "name": "ipython",
    "version": 3
   },
   "file_extension": ".py",
   "mimetype": "text/x-python",
   "name": "python",
   "nbconvert_exporter": "python",
   "pygments_lexer": "ipython3",
   "version": "3.11.7"
  }
 },
 "nbformat": 4,
 "nbformat_minor": 2
}
