{
 "cells": [
  {
   "cell_type": "markdown",
   "metadata": {},
   "source": [
    "### 인스타그램 크롤링"
   ]
  },
  {
   "cell_type": "code",
   "execution_count": 1,
   "metadata": {},
   "outputs": [],
   "source": [
    "import time\n",
    "from selenium import webdriver\n",
    "from selenium.webdriver.chrome.options import Options\n",
    "from selenium.webdriver.common.by import By\n",
    "from selenium.webdriver.common.keys import Keys\n",
    "from selenium.webdriver.support import expected_conditions as ES\n",
    "from selenium.webdriver.support.wait import WebDriverWait\n",
    "\n",
    "# 0. 로그인\n",
    "options = Options()\n",
    "options.add_argument(\"user-data-dir=C:\\\\Users\\\\dxsch\\\\web_crawling_study\\\\selenium_options\")\n",
    "\n",
    "\n",
    "options.add_argument(\"disable-blink-features=AutomationControlled\") \n",
    "options.add_experimental_option(\"excludeSwitches\", [\"enable-automation\"]) \n",
    "options.add_experimental_option(\"useAutomationExtension\", False)\n",
    "\n",
    "driver = webdriver.Chrome(options=options)\n",
    "driver.get(\"https://www.instagram.com/\")\n",
    "\n",
    "# 1. 검색창 클릭\n",
    "searchBtn = driver.find_element(By.CSS_SELECTOR, \".x1iyjqo2.xh8yej3>div:nth-child(2)>span>div>a\")\n",
    "searchBtn.click()\n",
    "\n",
    "# 2. 검색\n",
    "searchInputSelector=\".x1lugfcp.x19g9edo.x1lq5wgf.xgqcy7u.x30kzoy.x9jhf4c.x972fbf.xcfux6l.x1qhh985.xm0m39n.x9f619.x5n08af.xl565be.x5yr21d.x1a2a7pz.xyqdw3p.x1pi30zi.xg8j3zb.x1swvt13.x1yc453h.xh8yej3.xhtitgo.xs3hnx8.x1dbmdqj.xoy4bel.x7xwk5j\"\n",
    "searchInput=driver.find_element(By.CSS_SELECTOR,searchInputSelector)\n",
    "searchInput.send_keys(\"김수현\")\n",
    "\n",
    "# 3. 첫번째 계정 클릭\n",
    "searchList = \".x1i10hfl.x1qjc9v5.xjbqb8w.xjqpnuy.xa49m3k.xqeqjp1.x2hbi6w.x13fuv20.xu3j5b3.x1q0q8m5.x26u7qi.x972fbf.xcfux6l.x1qhh985.xm0m39n.x9f619.x1ypdohk.xdl72j9.x2lah0s.xe8uvvx.xdj266r.x11i5rnm.xat24cr.x1mh8g0r.x2lwn1j.xeuugli.xexx8yu.x4uap5.x18d9i69.xkhd6sd.x1n2onr6.x16tdsg8.x1hl2dhg.xggy1nq.x1ja2u2z.x1t137rt.x1q0g3np.x87ps6o.x1lku1pv.x1a2a7pz.x1dm5mii.x16mil14.xiojian.x1yutycm.x1lliihq.x193iq5w.xh8yej3:first-child\"\n",
    "WebDriverWait(driver, 10).until(ES.presence_of_all_elements_located((By.CSS_SELECTOR, searchList)))\n",
    "searchFirstNode = driver.find_element(By.CSS_SELECTOR, searchList)\n",
    "searchFirstNode.click()\n"
   ]
  },
  {
   "cell_type": "code",
   "execution_count": 2,
   "metadata": {},
   "outputs": [],
   "source": [
    "# 4-1. 스크롤 페이징 불러오기(12번째 이상 블럭 부터 찾아지지 않는 문제 발생)\n",
    "imgBlockSelector = \"._ac7v.xras4av.xgc1b0m.xat24cr.xzboxd6\"\n",
    "WebDriverWait(driver, 10).until(ES.presence_of_all_elements_located((By.CSS_SELECTOR, imgBlockSelector+ \":first-child\")))\n",
    "body = driver.find_element(By.TAG_NAME, \"body\")\n",
    "\n",
    "while True:\n",
    "    # 현재 출력된 이미지 블럭 모두 찾기\n",
    "    imgBlocks = driver.find_elements(By.CSS_SELECTOR, imgBlockSelector)  # 없으면 []\n",
    "    imgBlcoksLen = f\":nth-child({len(imgBlocks)+1})\"  # 다음블럭 선택자\n",
    "    body.send_keys(Keys.END)\n",
    "\n",
    "    try:\n",
    "        WebDriverWait(driver, 10).until(ES.presence_of_all_elements_located((By.CSS_SELECTOR, imgBlockSelector + imgBlcoksLen)))\n",
    "        print(imgBlcoksLen)\n",
    "        print(\"로딩중\")\n",
    "    except:\n",
    "        print(\"모든 이미지가 로딩되었습니다.\")\n",
    "        break\n"
   ]
  },
  {
   "cell_type": "code",
   "execution_count": 3,
   "metadata": {},
   "outputs": [
    {
     "name": "stdout",
     "output_type": "stream",
     "text": [
      "모든 이미지가 로딩되었습니다.\n"
     ]
    }
   ],
   "source": [
    "# 4-2.\n",
    "time.sleep(2)\n",
    "\n",
    "while True:\n",
    "    \n",
    "    prevHeight = driver.execute_script(\"return document.body.scrollHeight\")  # 이전\n",
    "    driver.execute_script(\"window.scrollTo(0, document.body.scrollHeight)\")\n",
    "    time.sleep(2)\n",
    "\n",
    "    nowHeight = driver.execute_script(\"return document.body.scrollHeight\")  # 이후\n",
    "    \n",
    "    if prevHeight == nowHeight:\n",
    "        print(\"모든 이미지가 로딩되었습니다.\")\n",
    "        break"
   ]
  },
  {
   "cell_type": "code",
   "execution_count": 8,
   "metadata": {},
   "outputs": [],
   "source": [
    "# 5. 이미지 저장\n",
    "import os # 폴더 운영체제가 만든다.\n",
    "from urllib.request import urlretrieve  # 리소스의 주소로 이미지를 다운받는다.\n",
    "from bs4 import BeautifulSoup\n",
    "\n",
    "soup = BeautifulSoup(driver.page_source, \"html.parser\")\n",
    "imgs = soup.select(\"._aagv>img\")\n",
    "imgDir = \"C:\\\\Users\\\\dxsch\\\\web_crawling_study\\\\imgs\\\\soohyun_k216\"\n",
    "\n",
    "if not os.path.isdir(imgDir):  # 해당 경로에 폴더가 없으면 \n",
    "    os.mkdir(imgDir)\n",
    "\n",
    "i = 0\n",
    "for img in imgs:  # [img(class, src, id, alter...), img, ....]\n",
    "    i += 1\n",
    "    src = img.get(\"src\")  # bs.get() 속성의 값을 가져오는 함수\n",
    "    urlretrieve(src, imgDir + \"\\\\soohyun_k216\" + str(i) + \".jpeg\")\n",
    "\n"
   ]
  }
 ],
 "metadata": {
  "kernelspec": {
   "display_name": "base",
   "language": "python",
   "name": "python3"
  },
  "language_info": {
   "codemirror_mode": {
    "name": "ipython",
    "version": 3
   },
   "file_extension": ".py",
   "mimetype": "text/x-python",
   "name": "python",
   "nbconvert_exporter": "python",
   "pygments_lexer": "ipython3",
   "version": "3.11.7"
  }
 },
 "nbformat": 4,
 "nbformat_minor": 2
}
