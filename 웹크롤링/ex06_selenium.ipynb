{
 "cells": [
  {
   "cell_type": "markdown",
   "metadata": {},
   "source": [
    "### Selenium 라이브러리\n",
    "- 웹브라우저를 자동으로 제어하는 라이브러리\n",
    "- requests : 파이썬에서 웹서버에 접속(서버에서 크롤링을 검출하기 쉽다.)\n",
    "- selenium : 브라우저를 자동으로 켜서 움직인다.(서버에서 검출하기 어렵다.)\n",
    "- 너무 빠르게 동작하거나 일정한 속도로 일하면 걸릴 수도 있다.\n",
    "- pip install selenium or pip3 install selenium "
   ]
  },
  {
   "cell_type": "markdown",
   "metadata": {},
   "source": [
    "### 정적 페이지와 동적 페이지 그리고 selenium\n",
    "- html에는 화면을 동적으로 보이게 하는 javascript가 존재한다.\n",
    "- 과거의 자바스크립트는 요소를 움직이거나 사라지게 하는 것에 그쳤다면 현재는 통신을 주로 하고 있기 때문에(AJAX 비동기식 통신: 화면 전환 없이 통신) requests 라이브러리로 웹크롤링을 완벽하게 하는 것은 무리가 있다.\n",
    "    - requests 라이브러리는 처음에 로딩한 페이지만 크롤링 가능"
   ]
  },
  {
   "cell_type": "code",
   "execution_count": null,
   "metadata": {},
   "outputs": [],
   "source": [
    "# pip install selenium"
   ]
  },
  {
   "cell_type": "code",
   "execution_count": null,
   "metadata": {},
   "outputs": [],
   "source": [
    "from selenium import webdriver as wd\n",
    "from selenium.webdriver.common.by import By  # dom 선택자를 어떻게 할건지를 고를 때 사용(상수)\n",
    "from selenium.webdriver.common.keys import Keys  # 키보드의 특정 키를 누를 때 사용\n",
    "import time\n",
    "\n",
    "driver = wd.Chrome()  # 크롬 브라우저를 제어하기 위해 드라이버를 가져옴\n",
    "driver.get(\"https://www.naver.com\") # html dom을 반환\n",
    "time.sleep(2)  # 시간 지연\n",
    "query = driver.find_element(By.ID, \"query\")  # bs4==select_one(#query)\n",
    "query.send_keys(\"lg 세탁기\")  # 검색어 / 너무 빠르게 글씨를 써도 컴퓨터로 인식함(클립보드에 복사/붙여넣기)\n",
    "time.sleep(1)\n",
    "query.send_keys(Keys.ENTER)  # 엔터"
   ]
  }
 ],
 "metadata": {
  "kernelspec": {
   "display_name": "base",
   "language": "python",
   "name": "python3"
  },
  "language_info": {
   "codemirror_mode": {
    "name": "ipython",
    "version": 3
   },
   "file_extension": ".py",
   "mimetype": "text/x-python",
   "name": "python",
   "nbconvert_exporter": "python",
   "pygments_lexer": "ipython3",
   "version": "3.11.7"
  }
 },
 "nbformat": 4,
 "nbformat_minor": 2
}
