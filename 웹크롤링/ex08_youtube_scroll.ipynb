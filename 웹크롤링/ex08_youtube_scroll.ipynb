{
 "cells": [
  {
   "cell_type": "markdown",
   "metadata": {},
   "source": [
    "### 유튜브나 인스타그램에서 무한 스크롤로 불러오는 데이터를 크롤링\n",
    "- 무한 스크롤 == 스크롤 페이징(비동기식 통신)\n",
    "- 스크롤이 내려가는 것을 자바스크립트가 인식해서 컨텐츠를 페이징 순서대로 불러온다."
   ]
  },
  {
   "cell_type": "code",
   "execution_count": 1,
   "metadata": {},
   "outputs": [],
   "source": [
    "import time\n",
    "from selenium import webdriver\n",
    "from selenium.webdriver.common.by import By\n",
    "from selenium.webdriver.common.keys import Keys\n",
    "from bs4 import BeautifulSoup as bs\n",
    "\n",
    "# 0. setting\n",
    "driver = webdriver.Chrome()\n",
    "url = \"https://www.youtube.com/\"\n",
    "driver.get(url)\n",
    "searchInput = driver.find_element(By.CSS_SELECTOR, \"input#search\")\n",
    "searchBtn = driver.find_element(By.CSS_SELECTOR, \"button#search-icon-legacy\")\n",
    "searchInput.send_keys(\"이연복의 복주머니\")\n",
    "searchBtn.click()\n",
    "\n",
    "# 1. 검색 후\n",
    "driver.implicitly_wait(10)  # 로딩 될 때까지 기다리기\n",
    "mainLink = driver.find_element(By.ID, \"main-link\")\n",
    "mainLink.click()\n",
    "\n",
    "# 2. 동영상 탭 선택\n",
    "driver.implicitly_wait(10)\n",
    "tab = driver.find_element(By.CSS_SELECTOR, \"[tab-title='동영상']\")\n",
    "tab.click()\n",
    "\n",
    "# 3. 동영상 무한 스크롤 로딩\n",
    "driver.implicitly_wait(10)\n",
    "body = driver.find_element(By.TAG_NAME, \"body\")  # body는 오직 하나\n",
    "\n",
    "# 여러 번 스크롤 내리기\n",
    "for i in range(10):\n",
    "    body.send_keys(Keys.END)  # end로 내린다\n",
    "    time.sleep(1)"
   ]
  }
 ],
 "metadata": {
  "kernelspec": {
   "display_name": "base",
   "language": "python",
   "name": "python3"
  },
  "language_info": {
   "codemirror_mode": {
    "name": "ipython",
    "version": 3
   },
   "file_extension": ".py",
   "mimetype": "text/x-python",
   "name": "python",
   "nbconvert_exporter": "python",
   "pygments_lexer": "ipython3",
   "version": "3.11.7"
  }
 },
 "nbformat": 4,
 "nbformat_minor": 2
}
