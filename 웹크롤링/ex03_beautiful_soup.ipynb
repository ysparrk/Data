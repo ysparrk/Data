{
 "cells": [
  {
   "cell_type": "markdown",
   "metadata": {},
   "source": [
    "### beautifulsoup4 라이브러리\n",
    "- http 통신으로 받아온 text 형식의 html 문서를 DOM 형식으로 파싱한다.\n",
    "- text를 html로 바꾼다.\n",
    "- dom tree 검색이 가능, node 검색이 가능!!\n",
    "- pip install beautifulsoup4\n",
    "- (mac)만약 오류 -> sudo python3 -m pip install bs4 "
   ]
  },
  {
   "cell_type": "markdown",
   "metadata": {},
   "source": [
    "다나와 크롤링\n",
    "\n",
    "#danawa_menubar .link_nav\n",
    "\n",
    "부모 -> id를 가진 것\n",
    "\n",
    "#danawa_menubar .link_nav:nth-child(8)  n번째에 있는 것\n",
    "#danawa_menubar>.main-header__nav> .link_nav:nth-child(8)  # 더 정확하게 하려면 이렇게"
   ]
  },
  {
   "cell_type": "code",
   "execution_count": null,
   "metadata": {},
   "outputs": [],
   "source": [
    "import requests as req # as : 모듈 전체에 가짜 이름\n",
    "from bs4 import BeautifulSoup as bs # from import : 특정 함수 모듈을 가져오는 방법\n",
    "\n",
    "url=\"https://www.danawa.com\"\n",
    "header={'User-Agent': 'Mozilla/5.0'} \n",
    "res = req.get(url=url, headers=header)\n",
    "print(res.text)\n",
    "\n",
    "res.text"
   ]
  },
  {
   "cell_type": "code",
   "execution_count": null,
   "metadata": {},
   "outputs": [],
   "source": [
    "# 파싱 : 변환되지 않을 수도 있는 것을 변환하는 행위 -> 위험하다 / 예외처리가 필요(try-catch)\n",
    "soup = bs(res.text, \"html.parser\")  # text를 html dom으로 파싱하겠다\n",
    "print(soup.prettify())"
   ]
  },
  {
   "cell_type": "code",
   "execution_count": 24,
   "metadata": {},
   "outputs": [
    {
     "name": "stdout",
     "output_type": "stream",
     "text": [
      "자동차 / https://auto.danawa.com/?logger_kw=dnw_gnb_auto\n",
      "조립PC / https://shop.danawa.com/shopmain/?logger_kw=dnw_gnb_pcmain\n",
      "PC견적 / https://shop.danawa.com/virtualestimate/?controller=estimateMain&methods=index&marketPlaceSeq=16&logger_kw=dnw_gnb_esti\n",
      "PC구매상담 / https://pc26.danawa.com/bbs/?logger_kw=dnw_gnb_pc26\n",
      "여행 / https://tour.danawa.com/?logger_kw=dnw_gnb_tour\n",
      "쇼핑기획전 / https://plan.danawa.com/?logger_kw=dnw_gnb_plan\n",
      "커뮤니티 / https://dpg.danawa.com/bbs?logger_kw=dnw_gnb_dpg\n",
      "이벤트 / https://event.danawa.com/?logger_kw=dnw_gnb_event\n",
      "/ / None\n",
      "체험단 / https://event.danawa.com/experience/?logger_kw=dnw_gnb_experience\n"
     ]
    }
   ],
   "source": [
    "# 구체적인 선택자를 사용하는 이유\n",
    "# 1. 중복이 존재할 수 있어서\n",
    "# 2. 가독성\n",
    "# 3. 선택자가 구체적일 수록 동작이 더 빠르다.\n",
    "navs = soup.select(\"#danawa_menubar>.main-header__nav> .link_nav\")  # 복수의 요소(노드)를 찾는 것 -> list 반환\n",
    "\n",
    "for nav in navs:\n",
    "    print(f'{nav.text} / {nav.get(\"href\")}')"
   ]
  },
  {
   "cell_type": "code",
   "execution_count": 21,
   "metadata": {},
   "outputs": [
    {
     "name": "stdout",
     "output_type": "stream",
     "text": [
      "전체\n",
      "#top100_0\n",
      "가전TV\n",
      "#top100_10\n",
      "컴퓨터노트북조립PC\n",
      "#top100_11\n",
      "태블릿모바일디카\n",
      "#top100_12\n",
      "골프스포츠\n",
      "#top100_13\n",
      "자동차용품공구\n",
      "#top100_14\n",
      "가구조명\n",
      "#top100_15\n",
      "식품유아완구\n",
      "#top100_16\n",
      "생활주방건강\n",
      "#top100_17\n",
      "패션잡화뷰티\n",
      "#top100_18\n",
      "반려동물취미사무\n",
      "#top100_19\n"
     ]
    }
   ],
   "source": [
    "# 움직이는 메뉴의 선택자를 찾아서 출력하기\n",
    "moveNavs = soup.select(\".main-top100__nav> .main-top100__nav__anchor\")\n",
    "moveNavs\n",
    "for nav in moveNavs:\n",
    "    print(nav.text)\n",
    "    print(nav.get(\"href\"))  # get(속성): 해당 노드의 속성 값을 반환\n",
    "    # href가 아이디를 참조하면 해당 아이디로 스크롤 이동한다\n",
    "    "
   ]
  }
 ],
 "metadata": {
  "kernelspec": {
   "display_name": "base",
   "language": "python",
   "name": "python3"
  },
  "language_info": {
   "codemirror_mode": {
    "name": "ipython",
    "version": 3
   },
   "file_extension": ".py",
   "mimetype": "text/x-python",
   "name": "python",
   "nbconvert_exporter": "python",
   "pygments_lexer": "ipython3",
   "version": "3.11.7"
  }
 },
 "nbformat": 4,
 "nbformat_minor": 2
}
