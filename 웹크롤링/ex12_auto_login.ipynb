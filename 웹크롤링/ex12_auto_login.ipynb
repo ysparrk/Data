{
 "cells": [
  {
   "cell_type": "markdown",
   "metadata": {},
   "source": [
    "### selenium으로 실행한 브라우저로 접속을 막거나 로그인할 수 없는 서버가 다수 존재\n",
    "- 이를 해결하기 위해서 자동화 탐지 방지 및 제거를 해야한다.\n",
    "- selenium으로 실행한 브라우저는 쿠키와 같은 브라우저 정보를 저장하지 않기 때문에 자동로그인을 할 수 없는데 설정으로 저장 위치를 지정하면 자동로그인이 가능해진다."
   ]
  },
  {
   "cell_type": "code",
   "execution_count": 14,
   "metadata": {},
   "outputs": [],
   "source": [
    "from selenium import webdriver\n",
    "from selenium.webdriver.chrome.options import Options\n",
    " \n",
    "options = Options()\n",
    "options.add_argument(\"user-data-dir=C:\\\\Users\\\\dxsch\\\\web_crawling_study\\\\selenium_options\")\n",
    "#쿠키와 같은 브라우저 정보 저장 (자동로그인==쿠키, 일주일간보지않기==쿠키)\n",
    "\n",
    "options.add_argument(\"disable-blink-features=AutomationControlled\") # 자동화 탐지 방지\n",
    "options.add_experimental_option(\"excludeSwitches\", [\"enable-automation\"]) # 자동화 표시 제거\n",
    "options.add_experimental_option(\"useAutomationExtension\", False) # 자동화 확장 기능 사용 안함\n",
    " \n",
    "driver = webdriver.Chrome(options=options)\n",
    "driver.get(\"https://www.google.co.kr/\")"
   ]
  }
 ],
 "metadata": {
  "kernelspec": {
   "display_name": "base",
   "language": "python",
   "name": "python3"
  },
  "language_info": {
   "codemirror_mode": {
    "name": "ipython",
    "version": 3
   },
   "file_extension": ".py",
   "mimetype": "text/x-python",
   "name": "python",
   "nbconvert_exporter": "python",
   "pygments_lexer": "ipython3",
   "version": "3.11.7"
  }
 },
 "nbformat": 4,
 "nbformat_minor": 2
}
